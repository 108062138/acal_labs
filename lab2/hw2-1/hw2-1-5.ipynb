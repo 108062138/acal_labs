{
 "cells": [
  {
   "cell_type": "code",
   "execution_count": 10,
   "metadata": {},
   "outputs": [
    {
     "name": "stdout",
     "output_type": "stream",
     "text": [
      "Activation from layer conv1.conv: torch.Size([1, 64, 112, 112])\n",
      "Activation from layer conv2.conv: torch.Size([1, 64, 56, 56])\n",
      "Activation from layer conv3.conv: torch.Size([1, 192, 56, 56])\n",
      "Activation from layer inception3a.branch1.conv: torch.Size([1, 64, 28, 28])\n",
      "Activation from layer inception3a.branch2.0.conv: torch.Size([1, 96, 28, 28])\n",
      "Activation from layer inception3a.branch2.1.conv: torch.Size([1, 128, 28, 28])\n",
      "Activation from layer inception3a.branch3.0.conv: torch.Size([1, 16, 28, 28])\n",
      "Activation from layer inception3a.branch3.1.conv: torch.Size([1, 32, 28, 28])\n",
      "Activation from layer inception3a.branch4.1.conv: torch.Size([1, 32, 28, 28])\n",
      "Activation from layer inception3b.branch1.conv: torch.Size([1, 128, 28, 28])\n",
      "Activation from layer inception3b.branch2.0.conv: torch.Size([1, 128, 28, 28])\n",
      "Activation from layer inception3b.branch2.1.conv: torch.Size([1, 192, 28, 28])\n",
      "Activation from layer inception3b.branch3.0.conv: torch.Size([1, 32, 28, 28])\n",
      "Activation from layer inception3b.branch3.1.conv: torch.Size([1, 96, 28, 28])\n",
      "Activation from layer inception3b.branch4.1.conv: torch.Size([1, 64, 28, 28])\n",
      "Activation from layer inception4a.branch1.conv: torch.Size([1, 192, 14, 14])\n",
      "Activation from layer inception4a.branch2.0.conv: torch.Size([1, 96, 14, 14])\n",
      "Activation from layer inception4a.branch2.1.conv: torch.Size([1, 208, 14, 14])\n",
      "Activation from layer inception4a.branch3.0.conv: torch.Size([1, 16, 14, 14])\n",
      "Activation from layer inception4a.branch3.1.conv: torch.Size([1, 48, 14, 14])\n",
      "Activation from layer inception4a.branch4.1.conv: torch.Size([1, 64, 14, 14])\n",
      "Activation from layer inception4b.branch1.conv: torch.Size([1, 160, 14, 14])\n",
      "Activation from layer inception4b.branch2.0.conv: torch.Size([1, 112, 14, 14])\n",
      "Activation from layer inception4b.branch2.1.conv: torch.Size([1, 224, 14, 14])\n",
      "Activation from layer inception4b.branch3.0.conv: torch.Size([1, 24, 14, 14])\n",
      "Activation from layer inception4b.branch3.1.conv: torch.Size([1, 64, 14, 14])\n",
      "Activation from layer inception4b.branch4.1.conv: torch.Size([1, 64, 14, 14])\n",
      "Activation from layer inception4c.branch1.conv: torch.Size([1, 128, 14, 14])\n",
      "Activation from layer inception4c.branch2.0.conv: torch.Size([1, 128, 14, 14])\n",
      "Activation from layer inception4c.branch2.1.conv: torch.Size([1, 256, 14, 14])\n",
      "Activation from layer inception4c.branch3.0.conv: torch.Size([1, 24, 14, 14])\n",
      "Activation from layer inception4c.branch3.1.conv: torch.Size([1, 64, 14, 14])\n",
      "Activation from layer inception4c.branch4.1.conv: torch.Size([1, 64, 14, 14])\n",
      "Activation from layer inception4d.branch1.conv: torch.Size([1, 112, 14, 14])\n",
      "Activation from layer inception4d.branch2.0.conv: torch.Size([1, 144, 14, 14])\n",
      "Activation from layer inception4d.branch2.1.conv: torch.Size([1, 288, 14, 14])\n",
      "Activation from layer inception4d.branch3.0.conv: torch.Size([1, 32, 14, 14])\n",
      "Activation from layer inception4d.branch3.1.conv: torch.Size([1, 64, 14, 14])\n",
      "Activation from layer inception4d.branch4.1.conv: torch.Size([1, 64, 14, 14])\n",
      "Activation from layer inception4e.branch1.conv: torch.Size([1, 256, 14, 14])\n",
      "Activation from layer inception4e.branch2.0.conv: torch.Size([1, 160, 14, 14])\n",
      "Activation from layer inception4e.branch2.1.conv: torch.Size([1, 320, 14, 14])\n",
      "Activation from layer inception4e.branch3.0.conv: torch.Size([1, 32, 14, 14])\n",
      "Activation from layer inception4e.branch3.1.conv: torch.Size([1, 128, 14, 14])\n",
      "Activation from layer inception4e.branch4.1.conv: torch.Size([1, 128, 14, 14])\n",
      "Activation from layer inception5a.branch1.conv: torch.Size([1, 256, 7, 7])\n",
      "Activation from layer inception5a.branch2.0.conv: torch.Size([1, 160, 7, 7])\n",
      "Activation from layer inception5a.branch2.1.conv: torch.Size([1, 320, 7, 7])\n",
      "Activation from layer inception5a.branch3.0.conv: torch.Size([1, 32, 7, 7])\n",
      "Activation from layer inception5a.branch3.1.conv: torch.Size([1, 128, 7, 7])\n",
      "Activation from layer inception5a.branch4.1.conv: torch.Size([1, 128, 7, 7])\n",
      "Activation from layer inception5b.branch1.conv: torch.Size([1, 384, 7, 7])\n",
      "Activation from layer inception5b.branch2.0.conv: torch.Size([1, 192, 7, 7])\n",
      "Activation from layer inception5b.branch2.1.conv: torch.Size([1, 384, 7, 7])\n",
      "Activation from layer inception5b.branch3.0.conv: torch.Size([1, 48, 7, 7])\n",
      "Activation from layer inception5b.branch3.1.conv: torch.Size([1, 128, 7, 7])\n",
      "Activation from layer inception5b.branch4.1.conv: torch.Size([1, 128, 7, 7])\n"
     ]
    },
    {
     "name": "stderr",
     "output_type": "stream",
     "text": [
      "/home/popo/.local/lib/python3.10/site-packages/torchvision/models/_utils.py:208: UserWarning: The parameter 'pretrained' is deprecated since 0.13 and may be removed in the future, please use 'weights' instead.\n",
      "  warnings.warn(\n",
      "/home/popo/.local/lib/python3.10/site-packages/torchvision/models/_utils.py:223: UserWarning: Arguments other than a weight enum or `None` for 'weights' are deprecated since 0.13 and may be removed in the future. The current behavior is equivalent to passing `weights=GoogLeNet_Weights.IMAGENET1K_V1`. You can also use `weights=GoogLeNet_Weights.DEFAULT` to get the most up-to-date weights.\n",
      "  warnings.warn(msg)\n"
     ]
    }
   ],
   "source": [
    "import torchvision.models as models\n",
    "import torch\n",
    "\n",
    "# Load a pre-trained AlexNet model\n",
    "model = models.googlenet(pretrained=True)\n",
    "model.eval()\n",
    "\n",
    "# Define a hook function\n",
    "def get_activation(name):\n",
    "    def hook(model, input, output):\n",
    "        activation[name] = output.detach()\n",
    "    return hook\n",
    "\n",
    "\n",
    "# Dictionary to store activations from each layer\n",
    "activation = {}\n",
    "\n",
    "# Register hook to each linear layer\n",
    "for layer_name, layer in model.named_modules():\n",
    "    if isinstance(layer, torch.nn.Conv2d):\n",
    "        # Register forward hook\n",
    "        layer.register_forward_hook(get_activation(layer_name))\n",
    "\n",
    "# Run model inference\n",
    "input_shape = (1, 3, 224, 224)\n",
    "data = torch.randn(1, 3, 224, 224)\n",
    "output = model(data)\n",
    "\n",
    "# Access the saved activations\n",
    "for layer in activation:\n",
    "    print(f\"Activation from layer {layer}: {activation[layer].shape}\")"
   ]
  },
  {
   "cell_type": "code",
   "execution_count": null,
   "metadata": {},
   "outputs": [],
   "source": []
  }
 ],
 "metadata": {
  "kernelspec": {
   "display_name": "popo",
   "language": "python",
   "name": "python3"
  },
  "language_info": {
   "codemirror_mode": {
    "name": "ipython",
    "version": 3
   },
   "file_extension": ".py",
   "mimetype": "text/x-python",
   "name": "python",
   "nbconvert_exporter": "python",
   "pygments_lexer": "ipython3",
   "version": "3.10.13"
  }
 },
 "nbformat": 4,
 "nbformat_minor": 2
}
