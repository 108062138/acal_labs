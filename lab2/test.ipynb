{
 "cells": [
  {
   "cell_type": "code",
   "execution_count": 4,
   "metadata": {},
   "outputs": [
    {
     "name": "stdout",
     "output_type": "stream",
     "text": [
      "renaming  lab2-2.ipynb into hw2-2.ipynb\n",
      "Renamed /home/popo/Desktop/david_acal/hw2/hw2-2/lab2-2.ipynb to /home/popo/Desktop/david_acal/hw2/hw2-2/hw2-2.ipynb\n",
      "renaming  lab2-2.py into hw2-2.py\n",
      "Renamed /home/popo/Desktop/david_acal/hw2/hw2-2/lab2-2.py to /home/popo/Desktop/david_acal/hw2/hw2-2/hw2-2.py\n",
      "renaming  lab2-1.py into hw2-1.py\n",
      "Renamed /home/popo/Desktop/david_acal/hw2/hw2-1/lab2-1.py to /home/popo/Desktop/david_acal/hw2/hw2-1/hw2-1.py\n",
      "renaming  lab2-1.ipynb into hw2-1.ipynb\n",
      "Renamed /home/popo/Desktop/david_acal/hw2/hw2-1/lab2-1.ipynb to /home/popo/Desktop/david_acal/hw2/hw2-1/hw2-1.ipynb\n",
      "renaming  lab2-3-2.py into hw2-3-2.py\n",
      "Renamed /home/popo/Desktop/david_acal/hw2/hw2-3/lab2-3-2.py to /home/popo/Desktop/david_acal/hw2/hw2-3/hw2-3-2.py\n",
      "renaming  lab2-3-1.py into hw2-3-1.py\n",
      "Renamed /home/popo/Desktop/david_acal/hw2/hw2-3/lab2-3-1.py to /home/popo/Desktop/david_acal/hw2/hw2-3/hw2-3-1.py\n",
      "renaming  lab2-3-3.py into hw2-3-3.py\n",
      "Renamed /home/popo/Desktop/david_acal/hw2/hw2-3/lab2-3-3.py to /home/popo/Desktop/david_acal/hw2/hw2-3/hw2-3-3.py\n",
      "renaming  lab2-3-1.ipynb into hw2-3-1.ipynb\n",
      "Renamed /home/popo/Desktop/david_acal/hw2/hw2-3/lab2-3-1.ipynb to /home/popo/Desktop/david_acal/hw2/hw2-3/hw2-3-1.ipynb\n",
      "renaming  lab2-3-3.ipynb into hw2-3-3.ipynb\n",
      "Renamed /home/popo/Desktop/david_acal/hw2/hw2-3/lab2-3-3.ipynb to /home/popo/Desktop/david_acal/hw2/hw2-3/hw2-3-3.ipynb\n",
      "renaming  lab2-3-2.ipynb into hw2-3-2.ipynb\n",
      "Renamed /home/popo/Desktop/david_acal/hw2/hw2-3/lab2-3-2.ipynb to /home/popo/Desktop/david_acal/hw2/hw2-3/hw2-3-2.ipynb\n"
     ]
    }
   ],
   "source": [
    "import os\n",
    "\n",
    "def rename_files_recursively(start_dir, old_prefix, new_prefix):\n",
    "    for dirpath, dirnames, filenames in os.walk(start_dir):\n",
    "        for filename in filenames:\n",
    "            if filename.startswith(old_prefix):\n",
    "                # Generate the new file name by replacing old_prefix with new_prefix\n",
    "                new_filename = filename.replace(old_prefix, new_prefix, 1)\n",
    "                \n",
    "                print('renaming ',filename, 'into', new_filename)\n",
    "\n",
    "                # Generate the full path to the old and new files\n",
    "                old_file = os.path.join(dirpath, filename)\n",
    "                new_file = os.path.join(dirpath, new_filename)\n",
    "                \n",
    "                # Rename the file\n",
    "                os.rename(old_file, new_file)\n",
    "                print(f\"Renamed {old_file} to {new_file}\")\n",
    "\n",
    "# Specify the root directory to start renaming from\n",
    "start_directory = '/home/popo/Desktop/david_acal/hw2'\n",
    "\n",
    "# Specify the old and new prefixes\n",
    "old_prefix = \"lab\"\n",
    "new_prefix = \"hw\"\n",
    "\n",
    "# Call the function\n",
    "rename_files_recursively(start_directory, old_prefix, new_prefix)"
   ]
  },
  {
   "cell_type": "code",
   "execution_count": null,
   "metadata": {},
   "outputs": [],
   "source": []
  }
 ],
 "metadata": {
  "kernelspec": {
   "display_name": "popo",
   "language": "python",
   "name": "python3"
  },
  "language_info": {
   "codemirror_mode": {
    "name": "ipython",
    "version": 3
   },
   "file_extension": ".py",
   "mimetype": "text/x-python",
   "name": "python",
   "nbconvert_exporter": "python",
   "pygments_lexer": "ipython3",
   "version": "3.10.13"
  }
 },
 "nbformat": 4,
 "nbformat_minor": 2
}
