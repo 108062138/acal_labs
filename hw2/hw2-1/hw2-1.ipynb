{
 "cells": [
  {
   "cell_type": "code",
   "execution_count": 2,
   "metadata": {},
   "outputs": [
    {
     "name": "stderr",
     "output_type": "stream",
     "text": [
      "/home/popo/.local/lib/python3.10/site-packages/torchvision/models/_utils.py:208: UserWarning: The parameter 'pretrained' is deprecated since 0.13 and may be removed in the future, please use 'weights' instead.\n",
      "  warnings.warn(\n",
      "/home/popo/.local/lib/python3.10/site-packages/torchvision/models/_utils.py:223: UserWarning: Arguments other than a weight enum or `None` for 'weights' are deprecated since 0.13 and may be removed in the future. The current behavior is equivalent to passing `weights=AlexNet_Weights.IMAGENET1K_V1`. You can also use `weights=AlexNet_Weights.DEFAULT` to get the most up-to-date weights.\n",
      "  warnings.warn(msg)\n"
     ]
    },
    {
     "name": "stdout",
     "output_type": "stream",
     "text": [
      "AlexNet(\n",
      "  (features): Sequential(\n",
      "    (0): Conv2d(3, 64, kernel_size=(11, 11), stride=(4, 4), padding=(2, 2))\n",
      "    (1): ReLU(inplace=True)\n",
      "    (2): MaxPool2d(kernel_size=3, stride=2, padding=0, dilation=1, ceil_mode=False)\n",
      "    (3): Conv2d(64, 192, kernel_size=(5, 5), stride=(1, 1), padding=(2, 2))\n",
      "    (4): ReLU(inplace=True)\n",
      "    (5): MaxPool2d(kernel_size=3, stride=2, padding=0, dilation=1, ceil_mode=False)\n",
      "    (6): Conv2d(192, 384, kernel_size=(3, 3), stride=(1, 1), padding=(1, 1))\n",
      "    (7): ReLU(inplace=True)\n",
      "    (8): Conv2d(384, 256, kernel_size=(3, 3), stride=(1, 1), padding=(1, 1))\n",
      "    (9): ReLU(inplace=True)\n",
      "    (10): Conv2d(256, 256, kernel_size=(3, 3), stride=(1, 1), padding=(1, 1))\n",
      "    (11): ReLU(inplace=True)\n",
      "    (12): MaxPool2d(kernel_size=3, stride=2, padding=0, dilation=1, ceil_mode=False)\n",
      "  )\n",
      "  (avgpool): AdaptiveAvgPool2d(output_size=(6, 6))\n",
      "  (classifier): Sequential(\n",
      "    (0): Dropout(p=0.5, inplace=False)\n",
      "    (1): Linear(in_features=9216, out_features=4096, bias=True)\n",
      "    (2): ReLU(inplace=True)\n",
      "    (3): Dropout(p=0.5, inplace=False)\n",
      "    (4): Linear(in_features=4096, out_features=4096, bias=True)\n",
      "    (5): ReLU(inplace=True)\n",
      "    (6): Linear(in_features=4096, out_features=1000, bias=True)\n",
      "  )\n",
      ")\n"
     ]
    }
   ],
   "source": [
    "import torchvision.models as models\n",
    "import torchinfo\n",
    "import torch\n",
    "# 加載 GoogLeNet 模型\n",
    "model = models.alexnet(pretrained=True)\n",
    "print(model)\n",
    "\n",
    "input_shape = (3, 224, 224)"
   ]
  },
  {
   "cell_type": "code",
   "execution_count": 3,
   "metadata": {},
   "outputs": [
    {
     "name": "stdout",
     "output_type": "stream",
     "text": [
      "==================================================================================================================================================\n",
      "= HW 2-1-1 Calculate the number of model parameters                                                                                              =\n",
      "==================================================================================================================================================\n",
      "Total number of parameters:  61100840\n"
     ]
    }
   ],
   "source": [
    "print('==================================================================================================================================================')\n",
    "print('= HW 2-1-1 Calculate the number of model parameters                                                                                              =')\n",
    "print('==================================================================================================================================================')\n",
    "# Calculating the total number of parameters in the model\n",
    "total_params = sum(param.numel() for param in model.parameters())\n",
    "print(\"Total number of parameters: \", total_params)"
   ]
  },
  {
   "cell_type": "code",
   "execution_count": 4,
   "metadata": {},
   "outputs": [
    {
     "name": "stdout",
     "output_type": "stream",
     "text": [
      "==================================================================================================================================================\n",
      "= HW 2-1-2 Calculate memory requirements for storing the model weights                                                                           =\n",
      "==================================================================================================================================================\n",
      "Total memory requirement: 233.08120727539062 MB\n"
     ]
    }
   ],
   "source": [
    "print('==================================================================================================================================================')\n",
    "print('= HW 2-1-2 Calculate memory requirements for storing the model weights                                                                           =')\n",
    "print('==================================================================================================================================================')\n",
    "param_size = sum(param.numel() * param.element_size() for param in model.parameters())\n",
    "print(\"Total memory requirement: {} MB\".format(param_size/(1024*1024)))"
   ]
  },
  {
   "cell_type": "code",
   "execution_count": 5,
   "metadata": {},
   "outputs": [
    {
     "name": "stdout",
     "output_type": "stream",
     "text": [
      "==================================================================================================================================================\n",
      "= HW 2-1-3 Use Torchinfo to print model architecture including the number of parameters and the output activation size of each layer             =\n",
      "==================================================================================================================================================\n"
     ]
    }
   ],
   "source": [
    "print('==================================================================================================================================================')\n",
    "print('= HW 2-1-3 Use Torchinfo to print model architecture including the number of parameters and the output activation size of each layer             =')\n",
    "print('==================================================================================================================================================')\n",
    "# torchinfo.summary(model, (3, 224, 224), batch_dim=0, col_names=(\"input_size\", \"output_size\", \"num_params\", \"kernel_size\", \"mult_adds\"), verbose=0)\n",
    "torchinfo.summary(model, (3, 224, 224), batch_dim=0, col_names=(\"output_size\", \"num_params\"), verbose=0)"
   ]
  },
  {
   "cell_type": "code",
   "execution_count": null,
   "metadata": {},
   "outputs": [],
   "source": [
    "def calculate_output_shape(input_shape, layer):\n",
    "    # Calculate the output shape for Conv2d, MaxPool2d, and Linear layers\n",
    "    if isinstance(layer, (nn.Conv2d, nn.MaxPool2d)):\n",
    "        kernel_size = (\n",
    "            layer.kernel_size\n",
    "            if isinstance(layer.kernel_size, tuple)\n",
    "            else (layer.kernel_size, layer.kernel_size)\n",
    "        )\n",
    "        stride = (\n",
    "            layer.stride\n",
    "            if isinstance(layer.stride, tuple)\n",
    "            else (layer.stride, layer.stride)\n",
    "        )\n",
    "        padding = (\n",
    "            layer.padding\n",
    "            if isinstance(layer.padding, tuple)\n",
    "            else (layer.padding, layer.padding)\n",
    "        )\n",
    "        dilation = (\n",
    "            layer.dilation\n",
    "            if isinstance(layer.dilation, tuple)\n",
    "            else (layer.dilation, layer.dilation)\n",
    "        )\n",
    "\n",
    "        output_height = (\n",
    "            input_shape[1] + 2 * padding[0] - dilation[0] * (kernel_size[0] - 1) - 1\n",
    "        ) // stride[0] + 1\n",
    "        output_width = (\n",
    "            input_shape[2] + 2 * padding[1] - dilation[1] * (kernel_size[1] - 1) - 1\n",
    "        ) // stride[1] + 1\n",
    "        return (\n",
    "            layer.out_channels if hasattr(layer, \"out_channels\") else input_shape[0],\n",
    "            output_height,\n",
    "            output_width,\n",
    "        )\n",
    "    elif isinstance(layer, nn.Linear):\n",
    "        # For Linear layers, the output shape is simply the layer's output features\n",
    "        return (layer.out_features,)\n",
    "    else:\n",
    "        return input_shape\n",
    "\n",
    "\n",
    "def calculate_macs(layer, input_shape, output_shape):\n",
    "    # Calculate MACs for Conv2d and Linear layers\n",
    "    if isinstance(layer, nn.Conv2d):\n",
    "        kernel_ops = (\n",
    "            layer.kernel_size[0]\n",
    "            * layer.kernel_size[1]\n",
    "            * (layer.in_channels / layer.groups)\n",
    "        )\n",
    "        output_elements = output_shape[1] * output_shape[2]\n",
    "        macs = int(kernel_ops * output_elements * layer.out_channels)\n",
    "        return macs\n",
    "    elif isinstance(layer, nn.Linear):\n",
    "        # For Linear layers, MACs are the product of input features and output features\n",
    "        macs = int(layer.in_features * layer.out_features)\n",
    "        return macs\n",
    "    else:\n",
    "        return 0"
   ]
  },
  {
   "cell_type": "code",
   "execution_count": null,
   "metadata": {},
   "outputs": [
    {
     "name": "stdout",
     "output_type": "stream",
     "text": [
      "Layer: conv1.conv, Type: Conv2d, Input Shape: (3, 224, 224), Output Shape: (64, 112, 112), MACs: 118013952\n",
      "Layer: maxpool1, Type: MaxPool2d, Input Shape: (64, 112, 112), Output Shape: (64, 55, 55), MACs: N/A\n",
      "Layer: conv2.conv, Type: Conv2d, Input Shape: (64, 55, 55), Output Shape: (64, 55, 55), MACs: 12390400\n",
      "Layer: conv3.conv, Type: Conv2d, Input Shape: (64, 55, 55), Output Shape: (192, 55, 55), MACs: 334540800\n",
      "Layer: maxpool2, Type: MaxPool2d, Input Shape: (192, 55, 55), Output Shape: (192, 27, 27), MACs: N/A\n",
      "Layer: inception3a.branch1.conv, Type: Conv2d, Input Shape: (192, 27, 27), Output Shape: (64, 27, 27), MACs: 8957952\n",
      "Layer: inception3a.branch2.0.conv, Type: Conv2d, Input Shape: (64, 27, 27), Output Shape: (96, 27, 27), MACs: 13436928\n",
      "Layer: inception3a.branch2.1.conv, Type: Conv2d, Input Shape: (96, 27, 27), Output Shape: (128, 27, 27), MACs: 80621568\n",
      "Layer: inception3a.branch3.0.conv, Type: Conv2d, Input Shape: (128, 27, 27), Output Shape: (16, 27, 27), MACs: 2239488\n",
      "Layer: inception3a.branch3.1.conv, Type: Conv2d, Input Shape: (16, 27, 27), Output Shape: (32, 27, 27), MACs: 3359232\n",
      "Layer: inception3a.branch4.0, Type: MaxPool2d, Input Shape: (32, 27, 27), Output Shape: (32, 27, 27), MACs: N/A\n",
      "Layer: inception3a.branch4.1.conv, Type: Conv2d, Input Shape: (32, 27, 27), Output Shape: (32, 27, 27), MACs: 4478976\n",
      "Layer: inception3b.branch1.conv, Type: Conv2d, Input Shape: (32, 27, 27), Output Shape: (128, 27, 27), MACs: 23887872\n",
      "Layer: inception3b.branch2.0.conv, Type: Conv2d, Input Shape: (128, 27, 27), Output Shape: (128, 27, 27), MACs: 23887872\n",
      "Layer: inception3b.branch2.1.conv, Type: Conv2d, Input Shape: (128, 27, 27), Output Shape: (192, 27, 27), MACs: 161243136\n",
      "Layer: inception3b.branch3.0.conv, Type: Conv2d, Input Shape: (192, 27, 27), Output Shape: (32, 27, 27), MACs: 5971968\n",
      "Layer: inception3b.branch3.1.conv, Type: Conv2d, Input Shape: (32, 27, 27), Output Shape: (96, 27, 27), MACs: 20155392\n",
      "Layer: inception3b.branch4.0, Type: MaxPool2d, Input Shape: (96, 27, 27), Output Shape: (96, 27, 27), MACs: N/A\n",
      "Layer: inception3b.branch4.1.conv, Type: Conv2d, Input Shape: (96, 27, 27), Output Shape: (64, 27, 27), MACs: 11943936\n",
      "Layer: maxpool3, Type: MaxPool2d, Input Shape: (64, 27, 27), Output Shape: (64, 13, 13), MACs: N/A\n",
      "Layer: inception4a.branch1.conv, Type: Conv2d, Input Shape: (64, 13, 13), Output Shape: (192, 13, 13), MACs: 15575040\n",
      "Layer: inception4a.branch2.0.conv, Type: Conv2d, Input Shape: (192, 13, 13), Output Shape: (96, 13, 13), MACs: 7787520\n",
      "Layer: inception4a.branch2.1.conv, Type: Conv2d, Input Shape: (96, 13, 13), Output Shape: (208, 13, 13), MACs: 30371328\n",
      "Layer: inception4a.branch3.0.conv, Type: Conv2d, Input Shape: (208, 13, 13), Output Shape: (16, 13, 13), MACs: 1297920\n",
      "Layer: inception4a.branch3.1.conv, Type: Conv2d, Input Shape: (16, 13, 13), Output Shape: (48, 13, 13), MACs: 1168128\n",
      "Layer: inception4a.branch4.0, Type: MaxPool2d, Input Shape: (48, 13, 13), Output Shape: (48, 13, 13), MACs: N/A\n",
      "Layer: inception4a.branch4.1.conv, Type: Conv2d, Input Shape: (48, 13, 13), Output Shape: (64, 13, 13), MACs: 5191680\n",
      "Layer: inception4b.branch1.conv, Type: Conv2d, Input Shape: (64, 13, 13), Output Shape: (160, 13, 13), MACs: 13844480\n",
      "Layer: inception4b.branch2.0.conv, Type: Conv2d, Input Shape: (160, 13, 13), Output Shape: (112, 13, 13), MACs: 9691136\n",
      "Layer: inception4b.branch2.1.conv, Type: Conv2d, Input Shape: (112, 13, 13), Output Shape: (224, 13, 13), MACs: 38158848\n",
      "Layer: inception4b.branch3.0.conv, Type: Conv2d, Input Shape: (224, 13, 13), Output Shape: (24, 13, 13), MACs: 2076672\n",
      "Layer: inception4b.branch3.1.conv, Type: Conv2d, Input Shape: (24, 13, 13), Output Shape: (64, 13, 13), MACs: 2336256\n",
      "Layer: inception4b.branch4.0, Type: MaxPool2d, Input Shape: (64, 13, 13), Output Shape: (64, 13, 13), MACs: N/A\n",
      "Layer: inception4b.branch4.1.conv, Type: Conv2d, Input Shape: (64, 13, 13), Output Shape: (64, 13, 13), MACs: 5537792\n",
      "Layer: inception4c.branch1.conv, Type: Conv2d, Input Shape: (64, 13, 13), Output Shape: (128, 13, 13), MACs: 11075584\n",
      "Layer: inception4c.branch2.0.conv, Type: Conv2d, Input Shape: (128, 13, 13), Output Shape: (128, 13, 13), MACs: 11075584\n",
      "Layer: inception4c.branch2.1.conv, Type: Conv2d, Input Shape: (128, 13, 13), Output Shape: (256, 13, 13), MACs: 49840128\n",
      "Layer: inception4c.branch3.0.conv, Type: Conv2d, Input Shape: (256, 13, 13), Output Shape: (24, 13, 13), MACs: 2076672\n",
      "Layer: inception4c.branch3.1.conv, Type: Conv2d, Input Shape: (24, 13, 13), Output Shape: (64, 13, 13), MACs: 2336256\n",
      "Layer: inception4c.branch4.0, Type: MaxPool2d, Input Shape: (64, 13, 13), Output Shape: (64, 13, 13), MACs: N/A\n",
      "Layer: inception4c.branch4.1.conv, Type: Conv2d, Input Shape: (64, 13, 13), Output Shape: (64, 13, 13), MACs: 5537792\n",
      "Layer: inception4d.branch1.conv, Type: Conv2d, Input Shape: (64, 13, 13), Output Shape: (112, 13, 13), MACs: 9691136\n",
      "Layer: inception4d.branch2.0.conv, Type: Conv2d, Input Shape: (112, 13, 13), Output Shape: (144, 13, 13), MACs: 12460032\n",
      "Layer: inception4d.branch2.1.conv, Type: Conv2d, Input Shape: (144, 13, 13), Output Shape: (288, 13, 13), MACs: 63078912\n",
      "Layer: inception4d.branch3.0.conv, Type: Conv2d, Input Shape: (288, 13, 13), Output Shape: (32, 13, 13), MACs: 2768896\n",
      "Layer: inception4d.branch3.1.conv, Type: Conv2d, Input Shape: (32, 13, 13), Output Shape: (64, 13, 13), MACs: 3115008\n",
      "Layer: inception4d.branch4.0, Type: MaxPool2d, Input Shape: (64, 13, 13), Output Shape: (64, 13, 13), MACs: N/A\n",
      "Layer: inception4d.branch4.1.conv, Type: Conv2d, Input Shape: (64, 13, 13), Output Shape: (64, 13, 13), MACs: 5537792\n",
      "Layer: inception4e.branch1.conv, Type: Conv2d, Input Shape: (64, 13, 13), Output Shape: (256, 13, 13), MACs: 22843392\n",
      "Layer: inception4e.branch2.0.conv, Type: Conv2d, Input Shape: (256, 13, 13), Output Shape: (160, 13, 13), MACs: 14277120\n",
      "Layer: inception4e.branch2.1.conv, Type: Conv2d, Input Shape: (160, 13, 13), Output Shape: (320, 13, 13), MACs: 77875200\n",
      "Layer: inception4e.branch3.0.conv, Type: Conv2d, Input Shape: (320, 13, 13), Output Shape: (32, 13, 13), MACs: 2855424\n",
      "Layer: inception4e.branch3.1.conv, Type: Conv2d, Input Shape: (32, 13, 13), Output Shape: (128, 13, 13), MACs: 6230016\n",
      "Layer: inception4e.branch4.0, Type: MaxPool2d, Input Shape: (128, 13, 13), Output Shape: (128, 13, 13), MACs: N/A\n",
      "Layer: inception4e.branch4.1.conv, Type: Conv2d, Input Shape: (128, 13, 13), Output Shape: (128, 13, 13), MACs: 11421696\n",
      "Layer: maxpool4, Type: MaxPool2d, Input Shape: (128, 13, 13), Output Shape: (128, 6, 6), MACs: N/A\n",
      "Layer: inception5a.branch1.conv, Type: Conv2d, Input Shape: (128, 6, 6), Output Shape: (256, 6, 6), MACs: 7667712\n",
      "Layer: inception5a.branch2.0.conv, Type: Conv2d, Input Shape: (256, 6, 6), Output Shape: (160, 6, 6), MACs: 4792320\n",
      "Layer: inception5a.branch2.1.conv, Type: Conv2d, Input Shape: (160, 6, 6), Output Shape: (320, 6, 6), MACs: 16588800\n",
      "Layer: inception5a.branch3.0.conv, Type: Conv2d, Input Shape: (320, 6, 6), Output Shape: (32, 6, 6), MACs: 958464\n",
      "Layer: inception5a.branch3.1.conv, Type: Conv2d, Input Shape: (32, 6, 6), Output Shape: (128, 6, 6), MACs: 1327104\n",
      "Layer: inception5a.branch4.0, Type: MaxPool2d, Input Shape: (128, 6, 6), Output Shape: (128, 6, 6), MACs: N/A\n",
      "Layer: inception5a.branch4.1.conv, Type: Conv2d, Input Shape: (128, 6, 6), Output Shape: (128, 6, 6), MACs: 3833856\n",
      "Layer: inception5b.branch1.conv, Type: Conv2d, Input Shape: (128, 6, 6), Output Shape: (384, 6, 6), MACs: 11501568\n",
      "Layer: inception5b.branch2.0.conv, Type: Conv2d, Input Shape: (384, 6, 6), Output Shape: (192, 6, 6), MACs: 5750784\n",
      "Layer: inception5b.branch2.1.conv, Type: Conv2d, Input Shape: (192, 6, 6), Output Shape: (384, 6, 6), MACs: 23887872\n",
      "Layer: inception5b.branch3.0.conv, Type: Conv2d, Input Shape: (384, 6, 6), Output Shape: (48, 6, 6), MACs: 1437696\n",
      "Layer: inception5b.branch3.1.conv, Type: Conv2d, Input Shape: (48, 6, 6), Output Shape: (128, 6, 6), MACs: 1990656\n",
      "Layer: inception5b.branch4.0, Type: MaxPool2d, Input Shape: (128, 6, 6), Output Shape: (128, 6, 6), MACs: N/A\n",
      "Layer: inception5b.branch4.1.conv, Type: Conv2d, Input Shape: (128, 6, 6), Output Shape: (128, 6, 6), MACs: 3833856\n",
      "Layer: fc, Type: Linear, Input Shape: (128, 6, 6), Output Shape: (1000,), MACs: 1024000\n",
      "==================================================================================================================================================\n",
      "= HW 2-1-4 Calculate computation requirements                                                                                                    =\n",
      "==================================================================================================================================================\n",
      "Total MACs: 1356857600\n"
     ]
    }
   ],
   "source": [
    "import torch.nn as nn\n",
    "input_shape = (3, 224, 224)\n",
    "total_mac = 0\n",
    "\n",
    "# Initial input shape\n",
    "input_shape = (3, 224, 224)\n",
    "total_macs = 0\n",
    "\n",
    "# Iterate through the layers of the model\n",
    "for name, layer in model.named_modules():\n",
    "    if isinstance(layer, (nn.Conv2d, nn.MaxPool2d, nn.ReLU, nn.Linear)):\n",
    "        output_shape = calculate_output_shape(input_shape, layer)\n",
    "        macs = calculate_macs(layer, input_shape, output_shape)\n",
    "        total_macs += macs\n",
    "        if isinstance(layer, (nn.Conv2d, nn.Linear)):\n",
    "            print(\n",
    "                f\"Layer: {name}, Type: {type(layer).__name__}, Input Shape: {input_shape}, Output Shape: {output_shape}, MACs: {macs}\"\n",
    "            )\n",
    "        elif isinstance(layer, nn.MaxPool2d):\n",
    "            # Also print shape transformation for MaxPool2d layers (no MACs calculated)\n",
    "            print(\n",
    "                f\"Layer: {name}, Type: {type(layer).__name__}, Input Shape: {input_shape}, Output Shape: {output_shape}, MACs: N/A\"\n",
    "            )\n",
    "        input_shape = output_shape  # Update the input shape for the next layer\n",
    "print('==================================================================================================================================================')\n",
    "print('= HW 2-1-4 Calculate computation requirements                                                                                                    =')\n",
    "print('==================================================================================================================================================')\n",
    "print(f\"Total MACs: {total_macs}\")"
   ]
  },
  {
   "cell_type": "code",
   "execution_count": null,
   "metadata": {},
   "outputs": [],
   "source": [
    "import torch\n",
    "import torchvision.models as models\n",
    "\n",
    "activation = {}\n",
    "# Define a hook function\n",
    "def get_activation(name):\n",
    "    def hook(model, input, output):\n",
    "        activation[name] = output.detach()\n",
    "    return hook\n",
    "\n",
    "# 加載 GoogLeNet 模型\n",
    "model = models.googlenet(pretrained=True)\n",
    "input_shape = (64, 3, 224, 224)\n",
    "input_tensor = torch.randn(input_shape)"
   ]
  },
  {
   "cell_type": "code",
   "execution_count": null,
   "metadata": {},
   "outputs": [],
   "source": [
    "model.eval()\n",
    "output = model(input_tensor)\n",
    "for layer_name, layer in model.named_modules():\n",
    "    if isinstance(layer, torch.nn.Conv2d):\n",
    "        layer.register_forward_hook(get_activation(layer_name))\n",
    "# Access the saved activations\n",
    "for layer in activation:\n",
    "    print(layer)\n",
    "    print(f\"Activation from layer {layer}: {activation[layer].shape}\")"
   ]
  },
  {
   "cell_type": "code",
   "execution_count": null,
   "metadata": {},
   "outputs": [],
   "source": []
  }
 ],
 "metadata": {
  "kernelspec": {
   "display_name": "popo",
   "language": "python",
   "name": "python3"
  },
  "language_info": {
   "codemirror_mode": {
    "name": "ipython",
    "version": 3
   },
   "file_extension": ".py",
   "mimetype": "text/x-python",
   "name": "python",
   "nbconvert_exporter": "python",
   "pygments_lexer": "ipython3",
   "version": "3.10.13"
  }
 },
 "nbformat": 4,
 "nbformat_minor": 2
}
