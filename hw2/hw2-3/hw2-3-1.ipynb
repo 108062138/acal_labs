{
 "cells": [
  {
   "cell_type": "code",
   "execution_count": 1,
   "metadata": {},
   "outputs": [],
   "source": [
    "import torch\n",
    "import torch.nn as nn\n",
    "import torchvision.models as models\n",
    "import onnx"
   ]
  },
  {
   "cell_type": "code",
   "execution_count": 2,
   "metadata": {},
   "outputs": [
    {
     "name": "stdout",
     "output_type": "stream",
     "text": [
      "tensor(0.)\n"
     ]
    }
   ],
   "source": [
    "class my_layer(nn.Module):\n",
    "    def __init__(self, B):\n",
    "        super(my_layer, self).__init__()\n",
    "        self.B = B\n",
    "    def matmul(self, A):\n",
    "        return torch.matmul(A, self.B)\n",
    "    def forward(self, A):\n",
    "        return self.matmul(A)\n",
    "\n",
    "M, K, N = 1, 9216, 4096\n",
    "chunk_row_size, chunk_col_size = 1, 64\n",
    "input = torch.randn(M, K)\n",
    "weight = torch.randn(N, K)\n",
    "\n",
    "layer = my_layer(weight.t())\n",
    "res = layer(input)\n",
    "# correctness\n",
    "print(torch.sum(res - torch.matmul(input, weight.t())))"
   ]
  },
  {
   "cell_type": "code",
   "execution_count": 6,
   "metadata": {},
   "outputs": [
    {
     "name": "stdout",
     "output_type": "stream",
     "text": [
      "==================================================================================================================================================\n",
      "= HW 2-3-1 create a subgraph (1) that consist of a single Linear layer of size MxKxN                                                             =\n",
      "==================================================================================================================================================\n",
      "Exported graph: graph(%A : Float(1, 9216, strides=[9216, 1], requires_grad=0, device=cpu)):\n",
      "  %/Constant_output_0 : Float(9216, 4096, strides=[1, 9216], requires_grad=0, device=cpu) = onnx::Constant[value=<Tensor>, onnx_name=\"/Constant\"](), scope: __main__.my_layer:: # /tmp/ipykernel_180649/3490729354.py:6:0\n",
      "  %2 : Float(1, 4096, strides=[4096, 1], requires_grad=0, device=cpu) = onnx::MatMul[onnx_name=\"/MatMul\"](%A, %/Constant_output_0), scope: __main__.my_layer:: # /tmp/ipykernel_180649/3490729354.py:6:0\n",
      "  return (%2)\n",
      "\n"
     ]
    }
   ],
   "source": [
    "print('==================================================================================================================================================')\n",
    "print('= HW 2-3-1 create a subgraph (1) that consist of a single Linear layer of size MxKxN                                                             =')\n",
    "print('==================================================================================================================================================')\n",
    "\n",
    "print('output file:', \"noraml_linear.onnx\")\n",
    "\n",
    "torch.onnx.export(layer, input, \"noraml_linear.onnx\", verbose=True)"
   ]
  }
 ],
 "metadata": {
  "kernelspec": {
   "display_name": "popo",
   "language": "python",
   "name": "python3"
  },
  "language_info": {
   "codemirror_mode": {
    "name": "ipython",
    "version": 3
   },
   "file_extension": ".py",
   "mimetype": "text/x-python",
   "name": "python",
   "nbconvert_exporter": "python",
   "pygments_lexer": "ipython3",
   "version": "3.10.13"
  }
 },
 "nbformat": 4,
 "nbformat_minor": 2
}
